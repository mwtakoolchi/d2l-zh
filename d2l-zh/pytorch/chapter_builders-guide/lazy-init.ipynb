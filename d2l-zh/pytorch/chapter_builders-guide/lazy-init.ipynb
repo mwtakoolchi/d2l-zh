{
 "cells": [
  {
   "cell_type": "markdown",
   "id": "9df64f37",
   "metadata": {
    "origin_pos": 1
   },
   "source": [
    "# Lazy Initialization\n",
    ":label:`sec_lazy_init`\n",
    "\n",
    "So far, it might seem that we got away\n",
    "with being sloppy in setting up our networks.\n",
    "Specifically, we did the following unintuitive things,\n",
    "which might not seem like they should work:\n",
    "\n",
    "* We defined the network architectures\n",
    "  without specifying the input dimensionality.\n",
    "* We added layers without specifying\n",
    "  the output dimension of the previous layer.\n",
    "* We even \"initialized\" these parameters\n",
    "  before providing enough information to determine\n",
    "  how many parameters our models should contain.\n",
    "\n",
    "You might be surprised that our code runs at all.\n",
    "After all, there is no way the deep learning framework\n",
    "could tell what the input dimensionality of a network would be.\n",
    "The trick here is that the framework *defers initialization*,\n",
    "waiting until the first time we pass data through the model,\n",
    "to infer the sizes of each layer on the fly.\n",
    "\n",
    "\n",
    "Later on, when working with convolutional neural networks,\n",
    "this technique will become even more convenient\n",
    "since the input dimensionality\n",
    "(e.g., the resolution of an image)\n",
    "will affect the dimensionality\n",
    "of each subsequent layer.\n",
    "Hence the ability to set parameters\n",
    "without the need to know,\n",
    "at the time of writing the code,\n",
    "the value of the dimension\n",
    "can greatly simplify the task of specifying\n",
    "and subsequently modifying our models.\n",
    "Next, we go deeper into the mechanics of initialization.\n"
   ]
  },
  {
   "cell_type": "markdown",
   "id": "edf5fcc3",
   "metadata": {},
   "source": [
    "# 延迟初始化\n",
    ":label:`sec_lazy_init`\n",
    "\n",
    "到目前为止，我们建立网络时似乎避开了以下这些看似矛盾的需求：\n",
    "* 在定义网络架构时无需指定输入维度\n",
    "* 添加层时无需告知前一层的输出维度\n",
    "* 在信息不足的情况下仍能\"初始化\"参数\n",
    "\n",
    "这种看似不合理的做法能够成功，核心在于深度学习框架的**延迟初始化**机制。该机制的工作流程如下：\n",
    "\n",
    "1. **架构定义阶段**  \n",
    "   框架允许开发者：\n",
    "   - 定义网络结构时不指定输入维度\n",
    "   - 添加层时不显式声明前一层的输出维度\n",
    "   - 创建未完全确定的参数对象\n",
    "\n",
    "2. **数据驱动推断**  \n",
    "   当首次通过模型传递数据时：\n",
    "   - 框架自动推导各层的输入/输出维度\n",
    "   - 根据实际数据形状确定参数张量的具体维度\n",
    "   - 执行真正的参数初始化\n",
    "\n",
    "3. **动态适应优势**  \n",
    "   这种机制特别适合：\n",
    "   - 卷积神经网络（输入分辨率影响后续层维度）\n",
    "   - 可变尺寸输入场景（如图像分类中的不同分辨率）\n",
    "   - 快速原型设计（方便修改网络结构）\n",
    "\n",
    "例如在卷积网络中：\n",
    "- 输入图像尺寸 → 决定各卷积层的特征图尺寸\n",
    "- 特征图尺寸 → 决定全连接层的输入维度\n",
    "- 框架自动完成这些维度计算，开发者只需关注层间逻辑关系\n",
    "\n",
    "该设计带来的实际效益：\n",
    "- 提高代码可维护性（维度变更只需修改输入配置）\n",
    "- 增强模型灵活性（自动适应不同输入规格）\n",
    "- 简化开发流程（无需手动计算各层维度）"
   ]
  },
  {
   "cell_type": "code",
   "execution_count": 1,
   "id": "66f6d4b6",
   "metadata": {
    "execution": {
     "iopub.execute_input": "2023-08-18T07:07:40.265310Z",
     "iopub.status.busy": "2023-08-18T07:07:40.264770Z",
     "iopub.status.idle": "2023-08-18T07:07:43.048083Z",
     "shell.execute_reply": "2023-08-18T07:07:43.046623Z"
    },
    "origin_pos": 3,
    "tab": [
     "pytorch"
    ]
   },
   "outputs": [],
   "source": [
    "import torch\n",
    "from torch import nn\n",
    "from d2l import torch as d2l"
   ]
  },
  {
   "cell_type": "markdown",
   "id": "d59ef643",
   "metadata": {
    "origin_pos": 6
   },
   "source": [
    "To begin, let's instantiate an MLP.\n",
    "\n",
    "首先，我们实例化一个多层感知机（MLP）。"
   ]
  },
  {
   "cell_type": "code",
   "execution_count": 2,
   "id": "0a029b2b",
   "metadata": {
    "execution": {
     "iopub.execute_input": "2023-08-18T07:07:43.052683Z",
     "iopub.status.busy": "2023-08-18T07:07:43.052008Z",
     "iopub.status.idle": "2023-08-18T07:07:43.057140Z",
     "shell.execute_reply": "2023-08-18T07:07:43.056380Z"
    },
    "origin_pos": 8,
    "tab": [
     "pytorch"
    ]
   },
   "outputs": [],
   "source": [
    "net = nn.Sequential(nn.LazyLinear(256), nn.ReLU(), nn.LazyLinear(10))"
   ]
  },
  {
   "cell_type": "markdown",
   "id": "95dfce37",
   "metadata": {
    "origin_pos": 11
   },
   "source": [
    "At this point, the network cannot possibly know\n",
    "the dimensions of the input layer's weights\n",
    "because the input dimension remains unknown.\n",
    "\n",
    "此时，由于输入维度仍未确定，网络无法确定输入层权重的具体维度。"
   ]
  },
  {
   "cell_type": "markdown",
   "id": "4a5af2cd",
   "metadata": {
    "origin_pos": 12,
    "tab": [
     "pytorch"
    ]
   },
   "source": [
    "Consequently the framework has not yet initialized any parameters.\n",
    "We confirm by attempting to access the parameters below.  \n",
    "因此，框架尚未初始化任何参数。我们可以通过尝试访问下方参数来验证这一点。"
   ]
  },
  {
   "cell_type": "code",
   "execution_count": 3,
   "id": "40f46c1f",
   "metadata": {
    "execution": {
     "iopub.execute_input": "2023-08-18T07:07:43.060463Z",
     "iopub.status.busy": "2023-08-18T07:07:43.059942Z",
     "iopub.status.idle": "2023-08-18T07:07:43.065850Z",
     "shell.execute_reply": "2023-08-18T07:07:43.065016Z"
    },
    "origin_pos": 15,
    "tab": [
     "pytorch"
    ]
   },
   "outputs": [
    {
     "data": {
      "text/plain": [
       "<UninitializedParameter>"
      ]
     },
     "execution_count": 3,
     "metadata": {},
     "output_type": "execute_result"
    }
   ],
   "source": [
    "net[0].weight"
   ]
  },
  {
   "cell_type": "markdown",
   "id": "d7591f34",
   "metadata": {
    "origin_pos": 21
   },
   "source": [
    "Next let's pass data through the network\n",
    "to make the framework finally initialize parameters.\n"
   ]
  },
  {
   "cell_type": "code",
   "execution_count": 3,
   "id": "12884fda",
   "metadata": {
    "execution": {
     "iopub.execute_input": "2023-08-18T07:07:43.069288Z",
     "iopub.status.busy": "2023-08-18T07:07:43.068623Z",
     "iopub.status.idle": "2023-08-18T07:07:43.097241Z",
     "shell.execute_reply": "2023-08-18T07:07:43.096468Z"
    },
    "origin_pos": 23,
    "tab": [
     "pytorch"
    ]
   },
   "outputs": [
    {
     "data": {
      "text/plain": [
       "torch.Size([256, 20])"
      ]
     },
     "execution_count": 3,
     "metadata": {},
     "output_type": "execute_result"
    }
   ],
   "source": [
    "X = torch.rand(2, 20)\n",
    "net(X)\n",
    "\n",
    "net[0].weight.shape"
   ]
  },
  {
   "cell_type": "markdown",
   "id": "b2784492",
   "metadata": {
    "origin_pos": 26
   },
   "source": [
    "As soon as we know the input dimensionality,\n",
    "20,\n",
    "the framework can identify the shape of the first layer's weight matrix by plugging in the value of 20.\n",
    "Having recognized the first layer's shape, the framework proceeds\n",
    "to the second layer,\n",
    "and so on through the computational graph\n",
    "until all shapes are known.\n",
    "Note that in this case,\n",
    "only the first layer requires lazy initialization,\n",
    "but the framework initializes sequentially.\n",
    "Once all parameter shapes are known,\n",
    "the framework can finally initialize the parameters.\n",
    "\n",
    "一旦我们获知输入维度为20，框架可以通过代入该值来确定第一层权重矩阵的形状。在识别第一层的形状后，框架会继续处理第二层，沿着计算图依次推导直至所有层的形状都被确定。值得注意的是，虽然本例中只有第一层需要延迟初始化，但框架会按顺序执行完整的初始化流程。当所有参数形状都确定后，框架最终将完成参数的初始化过程。"
   ]
  },
  {
   "cell_type": "markdown",
   "id": "fb3bb5b0",
   "metadata": {
    "origin_pos": 27,
    "tab": [
     "pytorch"
    ]
   },
   "source": [
    "The following method\n",
    "passes in dummy inputs\n",
    "through the network\n",
    "for a dry run\n",
    "to infer all parameter shapes\n",
    "and subsequently initializes the parameters.\n",
    "It will be used later when default random initializations are not desired.\n",
    "\n",
    "\n",
    "以下方法\n",
    "通过向网络传入虚拟输入\n",
    "进行一次干运行\n",
    "以推断所有参数形状\n",
    "并随后初始化参数。\n",
    "该方法将在后续需要非默认随机初始化时使用。"
   ]
  },
  {
   "cell_type": "code",
   "execution_count": 4,
   "id": "4fc7d361",
   "metadata": {
    "execution": {
     "iopub.execute_input": "2023-08-18T07:07:43.100683Z",
     "iopub.status.busy": "2023-08-18T07:07:43.100065Z",
     "iopub.status.idle": "2023-08-18T07:07:43.104282Z",
     "shell.execute_reply": "2023-08-18T07:07:43.103513Z"
    },
    "origin_pos": 29,
    "tab": [
     "pytorch"
    ]
   },
   "outputs": [],
   "source": [
    "@d2l.add_to_class(d2l.Module)  #@save\n",
    "def apply_init(self, inputs, init=None):\n",
    "    self.forward(*inputs)\n",
    "    if init is not None:\n",
    "        self.net.apply(init)"
   ]
  },
  {
   "cell_type": "markdown",
   "id": "4b9868fb",
   "metadata": {
    "origin_pos": 31
   },
   "source": [
    "## Summary\n",
    "\n",
    "Lazy initialization can be convenient, allowing the framework to infer parameter shapes automatically, making it easy to modify architectures and eliminating one common source of errors.\n",
    "We can pass data through the model to make the framework finally initialize parameters.\n",
    "\n",
    "\n",
    "## Exercises\n",
    "\n",
    "1. What happens if you specify the input dimensions to the first layer but not to subsequent layers? Do you get immediate initialization?\n",
    "1. What happens if you specify mismatching dimensions?\n",
    "1. What would you need to do if you have input of varying dimensionality? Hint: look at the parameter tying.\n"
   ]
  },
  {
   "cell_type": "markdown",
   "id": "8cd2c5d0",
   "metadata": {},
   "source": [
    "## 总结\n",
    "\n",
    "延迟初始化可以非常方便，允许框架自动推断参数形状，使修改架构变得容易，并消除了一个常见的错误源。\n",
    "我们可以通过模型传递数据，使框架最终初始化参数。\n",
    "\n",
    "## 练习\n",
    "\n",
    "1. 如果你为第一层指定输入维度但不为后续层指定会发生什么？你会得到立即初始化吗？\n",
    "2. 如果你指定不匹配的维度会发生什么？\n",
    "3. 如果你有不同维度的输入，你需要做什么？提示：查看参数绑定。\n"
   ]
  },
  {
   "cell_type": "markdown",
   "id": "c7cfe319",
   "metadata": {
    "origin_pos": 33,
    "tab": [
     "pytorch"
    ]
   },
   "source": [
    "[Discussions](https://discuss.d2l.ai/t/8092)\n"
   ]
  }
 ],
 "metadata": {
  "kernelspec": {
   "display_name": "gluon",
   "language": "python",
   "name": "python3"
  },
  "language_info": {
   "codemirror_mode": {
    "name": "ipython",
    "version": 3
   },
   "file_extension": ".py",
   "mimetype": "text/x-python",
   "name": "python",
   "nbconvert_exporter": "python",
   "pygments_lexer": "ipython3",
   "version": "3.10.16"
  },
  "required_libs": []
 },
 "nbformat": 4,
 "nbformat_minor": 5
}

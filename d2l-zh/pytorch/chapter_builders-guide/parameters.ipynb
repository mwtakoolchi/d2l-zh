{
 "cells": [
  {
   "cell_type": "markdown",
   "id": "d5c1bb12",
   "metadata": {
    "origin_pos": 1
   },
   "source": [
    "# Parameter Management\n",
    "\n",
    "Once we have chosen an architecture\n",
    "and set our hyperparameters,\n",
    "we proceed to the training loop,\n",
    "where our goal is to find parameter values\n",
    "that minimize our loss function.\n",
    "After training, we will need these parameters\n",
    "in order to make future predictions.\n",
    "Additionally, we will sometimes wish\n",
    "to extract the parameters\n",
    "perhaps to reuse them in some other context,\n",
    "to save our model to disk so that\n",
    "it may be executed in other software,\n",
    "or for examination in the hope of\n",
    "gaining scientific understanding.\n",
    "\n",
    "Most of the time, we will be able\n",
    "to ignore the nitty-gritty details\n",
    "of how parameters are declared\n",
    "and manipulated, relying on deep learning frameworks\n",
    "to do the heavy lifting.\n",
    "However, when we move away from\n",
    "stacked architectures with standard layers,\n",
    "we will sometimes need to get into the weeds\n",
    "of declaring and manipulating parameters.\n",
    "In this section, we cover the following:\n",
    "\n",
    "* Accessing parameters for debugging, diagnostics, and visualizations.\n",
    "* Sharing parameters across different model components.\n"
   ]
  },
  {
   "cell_type": "markdown",
   "id": "044ea587",
   "metadata": {},
   "source": [
    "## 参数管理\n",
    "\n",
    "当我们选定架构并设置超参数后，就进入训练循环。我们的目标是找到能最小化损失函数的参数值。训练完成后，我们需要这些参数来进行未来的预测。此外，有时我们希望：\n",
    "* 提取参数（可能为了在其他上下文中复用）\n",
    "* 将模型保存到磁盘以便在其他软件中执行\n",
    "* 通过检查参数来获得科学理解\n",
    "\n",
    "大多数情况下，我们可以忽略参数声明和操作的具体细节，依赖深度学习框架来完成繁重工作。然而，当我们需要使用非标准层的定制架构时，有时必须深入处理参数声明和操作的底层细节。本节将涵盖：\n",
    "\n",
    "* 访问参数（用于调试、诊断和可视化）\n",
    "* 跨不同模型组件共享参数"
   ]
  },
  {
   "cell_type": "code",
   "execution_count": 1,
   "id": "28c3500f",
   "metadata": {
    "execution": {
     "iopub.execute_input": "2023-08-18T07:03:16.267500Z",
     "iopub.status.busy": "2023-08-18T07:03:16.266934Z",
     "iopub.status.idle": "2023-08-18T07:03:18.028370Z",
     "shell.execute_reply": "2023-08-18T07:03:18.027494Z"
    },
    "origin_pos": 3,
    "tab": [
     "pytorch"
    ]
   },
   "outputs": [],
   "source": [
    "import torch\n",
    "from torch import nn"
   ]
  },
  {
   "cell_type": "markdown",
   "id": "57cec4bd",
   "metadata": {
    "origin_pos": 6
   },
   "source": [
    "(**We start by focusing on an MLP with one hidden layer.**)\n"
   ]
  },
  {
   "cell_type": "code",
   "execution_count": 2,
   "id": "4a5271ed",
   "metadata": {
    "execution": {
     "iopub.execute_input": "2023-08-18T07:03:18.032610Z",
     "iopub.status.busy": "2023-08-18T07:03:18.031951Z",
     "iopub.status.idle": "2023-08-18T07:03:18.064091Z",
     "shell.execute_reply": "2023-08-18T07:03:18.063329Z"
    },
    "origin_pos": 8,
    "tab": [
     "pytorch"
    ]
   },
   "outputs": [
    {
     "data": {
      "text/plain": [
       "torch.Size([2, 1])"
      ]
     },
     "execution_count": 2,
     "metadata": {},
     "output_type": "execute_result"
    }
   ],
   "source": [
    "net = nn.Sequential(nn.LazyLinear(8),\n",
    "                    nn.ReLU(),\n",
    "                    nn.LazyLinear(1))\n",
    "\n",
    "X = torch.rand(size=(2, 4))\n",
    "net(X).shape"
   ]
  },
  {
   "cell_type": "markdown",
   "id": "802e1719",
   "metadata": {
    "origin_pos": 11
   },
   "source": [
    "## [**Parameter Access**]\n",
    ":label:`subsec_param-access`\n",
    "\n",
    "Let's start with how to access parameters\n",
    "from the models that you already know.\n"
   ]
  },
  {
   "cell_type": "markdown",
   "id": "6b498cb8",
   "metadata": {},
   "source": [
    "## [**参数访问**]\n",
    ":label:`subsec_param-access`\n",
    "\n",
    "让我们从如何从已有模型中访问参数开始。"
   ]
  },
  {
   "cell_type": "markdown",
   "id": "730de8c2",
   "metadata": {
    "origin_pos": 12,
    "tab": [
     "pytorch"
    ]
   },
   "source": [
    "When a model is defined via the `Sequential` class,\n",
    "we can first access any layer by indexing\n",
    "into the model as though it were a list.\n",
    "Each layer's parameters are conveniently\n",
    "located in its attribute.\n"
   ]
  },
  {
   "cell_type": "markdown",
   "id": "f650d5c8",
   "metadata": {},
   "source": [
    "当通过`Sequential`类定义模型时，\n",
    "我们可以像处理列表一样通过索引访问任意层，\n",
    "每个层的参数都储存在其对应的属性中。"
   ]
  },
  {
   "cell_type": "markdown",
   "id": "e36298ff",
   "metadata": {
    "origin_pos": 14
   },
   "source": [
    "We can inspect the parameters of the second fully connected layer as follows.\n"
   ]
  },
  {
   "cell_type": "markdown",
   "id": "d856cae2",
   "metadata": {},
   "source": [
    "我们可以通过如下方式查看第二个全连接层的参数："
   ]
  },
  {
   "cell_type": "code",
   "execution_count": 6,
   "id": "173c1f4f",
   "metadata": {
    "execution": {
     "iopub.execute_input": "2023-08-18T07:03:18.067481Z",
     "iopub.status.busy": "2023-08-18T07:03:18.067185Z",
     "iopub.status.idle": "2023-08-18T07:03:18.074263Z",
     "shell.execute_reply": "2023-08-18T07:03:18.073500Z"
    },
    "origin_pos": 16,
    "tab": [
     "pytorch"
    ]
   },
   "outputs": [
    {
     "data": {
      "text/plain": [
       "OrderedDict([('weight',\n",
       "              tensor([[ 0.0731,  0.1670, -0.2303,  0.2594, -0.0652, -0.2690, -0.0368, -0.2228]])),\n",
       "             ('bias', tensor([-0.1794]))])"
      ]
     },
     "execution_count": 6,
     "metadata": {},
     "output_type": "execute_result"
    }
   ],
   "source": [
    "net[2].state_dict()"
   ]
  },
  {
   "cell_type": "markdown",
   "id": "1fbe197d",
   "metadata": {
    "origin_pos": 19
   },
   "source": [
    "We can see that this fully connected layer\n",
    "contains two parameters,\n",
    "corresponding to that layer's\n",
    "weights and biases, respectively.\n",
    "\n",
    "\n",
    "### [**Targeted Parameters**]\n",
    "\n",
    "Note that each parameter is represented\n",
    "as an instance of the parameter class.\n",
    "To do anything useful with the parameters,\n",
    "we first need to access the underlying numerical values.\n",
    "There are several ways to do this.\n",
    "Some are simpler while others are more general.\n",
    "The following code extracts the bias\n",
    "from the second neural network layer, which returns a parameter class instance, and\n",
    "further accesses that parameter's value.\n"
   ]
  },
  {
   "cell_type": "markdown",
   "id": "58f7ecb8",
   "metadata": {},
   "source": [
    "可以看到这个全连接层包含两个参数，\n",
    "分别对应该层的权重和偏置。\n",
    "\n",
    "### [**目标参数**]\n",
    "\n",
    "需要注意的是，每个参数都被表示为参数类的实例。\n",
    "要对参数执行任何操作，首先需要访问底层的数值。\n",
    "有几种方法可以做到这一点，有些比较简单，而有些则更通用。\n",
    "下面的代码从第二个神经网络层提取偏置，\n",
    "返回的是参数类实例，并进一步访问该参数的值。"
   ]
  },
  {
   "cell_type": "code",
   "execution_count": 7,
   "id": "490d8858",
   "metadata": {
    "execution": {
     "iopub.execute_input": "2023-08-18T07:03:18.078157Z",
     "iopub.status.busy": "2023-08-18T07:03:18.077641Z",
     "iopub.status.idle": "2023-08-18T07:03:18.083771Z",
     "shell.execute_reply": "2023-08-18T07:03:18.083009Z"
    },
    "origin_pos": 21,
    "tab": [
     "pytorch"
    ]
   },
   "outputs": [
    {
     "data": {
      "text/plain": [
       "(torch.nn.parameter.Parameter, tensor([-0.1794]))"
      ]
     },
     "execution_count": 7,
     "metadata": {},
     "output_type": "execute_result"
    }
   ],
   "source": [
    "type(net[2].bias), net[2].bias.data"
   ]
  },
  {
   "cell_type": "markdown",
   "id": "ab869f56",
   "metadata": {
    "origin_pos": 24,
    "tab": [
     "pytorch"
    ]
   },
   "source": [
    "Parameters are complex objects,\n",
    "containing values, gradients,\n",
    "and additional information.\n",
    "That is why we need to request the value explicitly.\n",
    "\n",
    "In addition to the value, each parameter also allows us to access the gradient. Because we have not invoked backpropagation for this network yet, it is in its initial state.\n"
   ]
  },
  {
   "cell_type": "markdown",
   "id": "33391659",
   "metadata": {},
   "source": [
    "参数是复杂的对象，包含了数值、梯度以及额外信息。\n",
    "这就是为什么我们需要显式请求其数值的原因。\n",
    "\n",
    "除了数值外，每个参数还允许我们访问梯度。\n",
    "由于我们尚未对此网络调用反向传播，因此梯度处于初始状态。"
   ]
  },
  {
   "cell_type": "code",
   "execution_count": 8,
   "id": "d2f52b89",
   "metadata": {
    "execution": {
     "iopub.execute_input": "2023-08-18T07:03:18.087332Z",
     "iopub.status.busy": "2023-08-18T07:03:18.086588Z",
     "iopub.status.idle": "2023-08-18T07:03:18.091863Z",
     "shell.execute_reply": "2023-08-18T07:03:18.091037Z"
    },
    "origin_pos": 27,
    "tab": [
     "pytorch"
    ]
   },
   "outputs": [
    {
     "data": {
      "text/plain": [
       "True"
      ]
     },
     "execution_count": 8,
     "metadata": {},
     "output_type": "execute_result"
    }
   ],
   "source": [
    "net[2].weight.grad == None"
   ]
  },
  {
   "cell_type": "markdown",
   "id": "d7cad27b",
   "metadata": {
    "origin_pos": 28
   },
   "source": [
    "### [**All Parameters at Once**]\n",
    "\n",
    "When we need to perform operations on all parameters,\n",
    "accessing them one-by-one can grow tedious.\n",
    "The situation can grow especially unwieldy\n",
    "when we work with more complex, e.g., nested, modules,\n",
    "since we would need to recurse\n",
    "through the entire tree to extract\n",
    "each sub-module's parameters. Below we demonstrate accessing the parameters of all layers.\n"
   ]
  },
  {
   "cell_type": "markdown",
   "id": "e97f7234",
   "metadata": {},
   "source": [
    "### [**一次性访问所有参数**]\n",
    "\n",
    "当我们需要对所有参数执行操作时，逐个访问它们会变得很麻烦。\n",
    "当处理更复杂的模块（例如嵌套模块）时，\n",
    "情况会变得特别麻烦，\n",
    "因为我们需要递归遍历整个模块树来提取每个子模块的参数。\n",
    "下面的代码演示如何访问所有层的参数：\n",
    "\n",
    "通过`parameters`方法可以访问所有参数：\n",
    "```"
   ]
  },
  {
   "cell_type": "code",
   "execution_count": 10,
   "id": "d9e7339f",
   "metadata": {
    "execution": {
     "iopub.execute_input": "2023-08-18T07:03:18.095233Z",
     "iopub.status.busy": "2023-08-18T07:03:18.094688Z",
     "iopub.status.idle": "2023-08-18T07:03:18.100280Z",
     "shell.execute_reply": "2023-08-18T07:03:18.099481Z"
    },
    "origin_pos": 30,
    "tab": [
     "pytorch"
    ]
   },
   "outputs": [
    {
     "data": {
      "text/plain": [
       "[('0.weight', torch.Size([8, 4])),\n",
       " ('0.bias', torch.Size([8])),\n",
       " ('2.weight', torch.Size([1, 8])),\n",
       " ('2.bias', torch.Size([1]))]"
      ]
     },
     "execution_count": 10,
     "metadata": {},
     "output_type": "execute_result"
    }
   ],
   "source": [
    "[(name, param.shape) for name, param in net.named_parameters()]"
   ]
  },
  {
   "cell_type": "markdown",
   "id": "b39139ed",
   "metadata": {
    "origin_pos": 33
   },
   "source": [
    "## [**Tied Parameters**]\n",
    "\n",
    "Often, we want to share parameters across multiple layers.\n",
    "Let's see how to do this elegantly.\n",
    "In the following we allocate a fully connected layer\n",
    "and then use its parameters specifically\n",
    "to set those of another layer.\n",
    "Here we need to run the forward propagation\n",
    "`net(X)` before accessing the parameters.\n"
   ]
  },
  {
   "cell_type": "markdown",
   "id": "cacb0645",
   "metadata": {},
   "source": [
    "## [**参数绑定**]\n",
    "\n",
    "在多个层之间共享参数通常很有用。\n",
    "让我们看看如何优雅地实现此操作。\n",
    "下面我们定义一个全连接层，\n",
    "然后将其参数显式设置为另一个层的参数。\n",
    "在访问参数之前，我们需要先运行前向传播\n",
    "`net(X)`。"
   ]
  },
  {
   "cell_type": "code",
   "execution_count": 7,
   "id": "3468f1ab",
   "metadata": {
    "execution": {
     "iopub.execute_input": "2023-08-18T07:03:18.103707Z",
     "iopub.status.busy": "2023-08-18T07:03:18.103163Z",
     "iopub.status.idle": "2023-08-18T07:03:18.112542Z",
     "shell.execute_reply": "2023-08-18T07:03:18.111715Z"
    },
    "origin_pos": 35,
    "tab": [
     "pytorch"
    ]
   },
   "outputs": [
    {
     "name": "stdout",
     "output_type": "stream",
     "text": [
      "tensor([True, True, True, True, True, True, True, True])\n",
      "tensor([True, True, True, True, True, True, True, True])\n"
     ]
    }
   ],
   "source": [
    "# We need to give the shared layer a name so that we can refer to its\n",
    "# parameters\n",
    "shared = nn.LazyLinear(8)\n",
    "net = nn.Sequential(nn.LazyLinear(8), nn.ReLU(),\n",
    "                    shared, nn.ReLU(),\n",
    "                    shared, nn.ReLU(),\n",
    "                    nn.LazyLinear(1))\n",
    "\n",
    "net(X)\n",
    "# Check whether the parameters are the same\n",
    "print(net[2].weight.data[0] == net[4].weight.data[0])\n",
    "net[2].weight.data[0, 0] = 100\n",
    "# Make sure that they are actually the same object rather than just having the\n",
    "# same value\n",
    "print(net[2].weight.data[0] == net[4].weight.data[0])"
   ]
  },
  {
   "cell_type": "markdown",
   "id": "39c8abad",
   "metadata": {
    "origin_pos": 38
   },
   "source": [
    "This example shows that the parameters\n",
    "of the second and third layer are tied.\n",
    "They are not just equal, they are\n",
    "represented by the same exact tensor.\n",
    "Thus, if we change one of the parameters,\n",
    "the other one changes, too.\n"
   ]
  },
  {
   "cell_type": "markdown",
   "id": "46b6ac09",
   "metadata": {},
   "source": [
    "这个例子表明第二层和第三层的参数是绑定的。\n",
    "它们不仅相等，而且由同一个张量表示。\n",
    "因此，如果我们改变其中一个参数，\n",
    "另一个也会随之改变。"
   ]
  },
  {
   "cell_type": "markdown",
   "id": "25614d48",
   "metadata": {
    "origin_pos": 39,
    "tab": [
     "pytorch"
    ]
   },
   "source": [
    "You might wonder,\n",
    "when parameters are tied\n",
    "what happens to the gradients?\n",
    "Since the model parameters contain gradients,\n",
    "the gradients of the second hidden layer\n",
    "and the third hidden layer are added together\n",
    "during backpropagation.\n"
   ]
  },
  {
   "cell_type": "markdown",
   "id": "cd059aa7",
   "metadata": {},
   "source": [
    "读者可能会疑惑，\n",
    "当参数被绑定时，\n",
    "梯度会发生什么变化？\n",
    "由于模型参数包含梯度，\n",
    "在反向传播过程中，\n",
    "第二个隐藏层和第三个隐藏层的梯度会被加在一起。"
   ]
  },
  {
   "cell_type": "markdown",
   "id": "ed8cfd06",
   "metadata": {
    "origin_pos": 40
   },
   "source": [
    "## Summary\n",
    "\n",
    "We have several ways of accessing and tying model parameters.\n",
    "\n",
    "\n",
    "## Exercises\n",
    "\n",
    "1. Use the `NestMLP` model defined in :numref:`sec_model_construction` and access the parameters of the various layers.\n",
    "1. Construct an MLP containing a shared parameter layer and train it. During the training process, observe the model parameters and gradients of each layer.\n",
    "1. Why is sharing parameters a good idea?\n"
   ]
  },
  {
   "cell_type": "markdown",
   "id": "22a404f5",
   "metadata": {
    "origin_pos": 42,
    "tab": [
     "pytorch"
    ]
   },
   "source": [
    "[Discussions](https://discuss.d2l.ai/t/57)\n"
   ]
  },
  {
   "cell_type": "markdown",
   "id": "6d4a7978",
   "metadata": {},
   "source": [
    "## 小结\n",
    "\n",
    "我们有多重方法可以访问和绑定模型参数。\n",
    "\n",
    "## 练习\n",
    "\n",
    "1. 使用 :numref:`sec_model_construction` 中定义的 `NestMLP` 模型，并访问各个层的参数。\n",
    "1. 构造一个包含共享参数层的多层感知机并对其进行训练。在训练过程中，观察模型各层的参数和梯度。\n",
    "1. 为什么共享参数是个好主意？"
   ]
  }
 ],
 "metadata": {
  "kernelspec": {
   "display_name": "gluon",
   "language": "python",
   "name": "python3"
  },
  "language_info": {
   "codemirror_mode": {
    "name": "ipython",
    "version": 3
   },
   "file_extension": ".py",
   "mimetype": "text/x-python",
   "name": "python",
   "nbconvert_exporter": "python",
   "pygments_lexer": "ipython3",
   "version": "3.10.16"
  },
  "required_libs": []
 },
 "nbformat": 4,
 "nbformat_minor": 5
}

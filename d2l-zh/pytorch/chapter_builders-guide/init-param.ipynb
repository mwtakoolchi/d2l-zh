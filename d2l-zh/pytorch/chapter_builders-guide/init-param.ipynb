{
 "cells": [
  {
   "cell_type": "markdown",
   "id": "289395cc",
   "metadata": {
    "origin_pos": 1
   },
   "source": [
    "# Parameter Initialization\n",
    "\n",
    "Now that we know how to access the parameters,\n",
    "let's look at how to initialize them properly.\n",
    "We discussed the need for proper initialization in :numref:`sec_numerical_stability`.\n",
    "The deep learning framework provides default random initializations to its layers.\n",
    "However, we often want to initialize our weights\n",
    "according to various other protocols. The framework provides most commonly\n",
    "used protocols, and also allows to create a custom initializer.\n"
   ]
  },
  {
   "cell_type": "markdown",
   "id": "fbb178fd",
   "metadata": {},
   "source": [
    "# 参数初始化\n",
    "\n",
    "现在我们已经知道如何访问参数，\n",
    "让我们看看如何正确地初始化它们。\n",
    "我们曾在 :numref:`sec_numerical_stability` 中讨论过良好初始化的必要性。\n",
    "深度学习框架提供默认随机初始化给其各层使用。\n",
    "然而，我们经常需要根据其他协议\n",
    "来初始化权重。深度学习框架提供了最常用的\n",
    "协议，同时也允许创建自定义初始化方法。"
   ]
  },
  {
   "cell_type": "code",
   "execution_count": 1,
   "id": "9b26b2a9",
   "metadata": {
    "execution": {
     "iopub.execute_input": "2023-08-18T07:05:46.928019Z",
     "iopub.status.busy": "2023-08-18T07:05:46.927747Z",
     "iopub.status.idle": "2023-08-18T07:05:48.584364Z",
     "shell.execute_reply": "2023-08-18T07:05:48.583391Z"
    },
    "origin_pos": 3,
    "tab": [
     "pytorch"
    ]
   },
   "outputs": [],
   "source": [
    "import torch\n",
    "from torch import nn"
   ]
  },
  {
   "cell_type": "markdown",
   "id": "0bbf2b92",
   "metadata": {
    "origin_pos": 7,
    "tab": [
     "pytorch"
    ]
   },
   "source": [
    "By default, PyTorch initializes weight and bias matrices\n",
    "uniformly by drawing from a range that is computed according to the input and output dimension.\n",
    "PyTorch's `nn.init` module provides a variety\n",
    "of preset initialization methods.\n"
   ]
  },
  {
   "cell_type": "markdown",
   "id": "80e64206",
   "metadata": {},
   "source": [
    "默认情况下，PyTorch 会通过从根据输入和输出维度计算出的范围中均匀采样来初始化权重矩阵和偏置向量。PyTorch 的 `nn.init` 模块提供了多种预置的初始化方法。"
   ]
  },
  {
   "cell_type": "code",
   "execution_count": 3,
   "id": "657d4ae4",
   "metadata": {
    "execution": {
     "iopub.execute_input": "2023-08-18T07:05:48.589268Z",
     "iopub.status.busy": "2023-08-18T07:05:48.588385Z",
     "iopub.status.idle": "2023-08-18T07:05:48.631624Z",
     "shell.execute_reply": "2023-08-18T07:05:48.630676Z"
    },
    "origin_pos": 11,
    "tab": [
     "pytorch"
    ]
   },
   "outputs": [
    {
     "data": {
      "text/plain": [
       "torch.Size([2, 1])"
      ]
     },
     "execution_count": 3,
     "metadata": {},
     "output_type": "execute_result"
    }
   ],
   "source": [
    "net = nn.Sequential(nn.LazyLinear(8), nn.ReLU(), nn.LazyLinear(1))\n",
    "X = torch.rand(size=(2, 4))\n",
    "net(X).shape"
   ]
  },
  {
   "cell_type": "markdown",
   "id": "2ca8b4aa",
   "metadata": {
    "origin_pos": 14
   },
   "source": [
    "## [**Built-in Initialization**]\n",
    "\n",
    "Let's begin by calling on built-in initializers.\n",
    "The code below initializes all weight parameters\n",
    "as Gaussian random variables\n",
    "with standard deviation 0.01, while bias parameters are cleared to zero.\n"
   ]
  },
  {
   "cell_type": "markdown",
   "id": "27e80639",
   "metadata": {},
   "source": [
    "## [**内置初始化**]\n",
    "\n",
    "我们首先调用内置的初始化器。\n",
    "下面的代码将所有权重参数初始化为\n",
    "标准差为0.01的高斯随机变量，\n",
    "且将偏置参数清零。"
   ]
  },
  {
   "cell_type": "code",
   "execution_count": 4,
   "id": "027c1456",
   "metadata": {
    "execution": {
     "iopub.execute_input": "2023-08-18T07:05:48.635847Z",
     "iopub.status.busy": "2023-08-18T07:05:48.635128Z",
     "iopub.status.idle": "2023-08-18T07:05:48.646927Z",
     "shell.execute_reply": "2023-08-18T07:05:48.645874Z"
    },
    "origin_pos": 16,
    "tab": [
     "pytorch"
    ]
   },
   "outputs": [
    {
     "data": {
      "text/plain": [
       "(tensor([-0.0085,  0.0173,  0.0255,  0.0021]), tensor(0.))"
      ]
     },
     "execution_count": 4,
     "metadata": {},
     "output_type": "execute_result"
    }
   ],
   "source": [
    "def init_normal(module):\n",
    "    if type(module) == nn.Linear:\n",
    "        nn.init.normal_(module.weight, mean=0, std=0.01)\n",
    "        nn.init.zeros_(module.bias)\n",
    "\n",
    "net.apply(init_normal)\n",
    "net[0].weight.data[0], net[0].bias.data[0]"
   ]
  },
  {
   "cell_type": "code",
   "execution_count": 12,
   "id": "59651b8a",
   "metadata": {},
   "outputs": [
    {
     "data": {
      "text/plain": [
       "(tensor([[ 0.0022, -0.0096, -0.0070,  0.0105],\n",
       "         [ 0.0186,  0.0033, -0.0124, -0.0104],\n",
       "         [ 0.0027,  0.0133, -0.0073,  0.0072],\n",
       "         [ 0.0244,  0.0050,  0.0017, -0.0213],\n",
       "         [-0.0221, -0.0137, -0.0076,  0.0006],\n",
       "         [ 0.0201, -0.0079, -0.0069,  0.0144],\n",
       "         [ 0.0108,  0.0065, -0.0088, -0.0059],\n",
       "         [ 0.0066, -0.0119, -0.0133, -0.0240]]),\n",
       " tensor([0., 0., 0., 0., 0., 0., 0., 0.]))"
      ]
     },
     "execution_count": 12,
     "metadata": {},
     "output_type": "execute_result"
    }
   ],
   "source": [
    "def chi_init_normal(module):\n",
    "    if type(module) == nn.Linear:\n",
    "        nn.init.normal_(module.weight, mean=0, std=0.01)\n",
    "        nn.init.zeros_(module.bias)\n",
    "\n",
    "net.apply(chi_init_normal)\n",
    "net[0].weight.data,net[0].bias.data"
   ]
  },
  {
   "cell_type": "markdown",
   "id": "a0ce96f0",
   "metadata": {
    "origin_pos": 19
   },
   "source": [
    "We can also initialize all the parameters\n",
    "to a given constant value (say, 1).\n"
   ]
  },
  {
   "cell_type": "markdown",
   "id": "d88f3d91",
   "metadata": {},
   "source": [
    "我们也可以将所有参数初始化为给定的常数值（例如1）。"
   ]
  },
  {
   "cell_type": "code",
   "execution_count": 14,
   "id": "63e54a2a",
   "metadata": {
    "execution": {
     "iopub.execute_input": "2023-08-18T07:05:48.650790Z",
     "iopub.status.busy": "2023-08-18T07:05:48.650229Z",
     "iopub.status.idle": "2023-08-18T07:05:48.657915Z",
     "shell.execute_reply": "2023-08-18T07:05:48.656854Z"
    },
    "origin_pos": 21,
    "tab": [
     "pytorch"
    ]
   },
   "outputs": [
    {
     "data": {
      "text/plain": [
       "(tensor([1., 1., 1., 1.]), tensor(0.))"
      ]
     },
     "execution_count": 14,
     "metadata": {},
     "output_type": "execute_result"
    }
   ],
   "source": [
    "def init_constant(module):\n",
    "    if type(module) == nn.Linear:\n",
    "        nn.init.constant_(module.weight, 1)\n",
    "        nn.init.zeros_(module.bias)\n",
    "\n",
    "net.apply(init_constant)\n",
    "net[0].weight.data[0], net[0].bias.data[0]"
   ]
  },
  {
   "cell_type": "code",
   "execution_count": 13,
   "id": "70d28f38",
   "metadata": {},
   "outputs": [],
   "source": [
    "def chi_init_constant(module):\n",
    "    if type(module) == nn.Linear:\n",
    "        nn.init.constant_(module.weight, 1)\n",
    "        nn.init.zeros_(module.bias)"
   ]
  },
  {
   "cell_type": "markdown",
   "id": "0b3630fb",
   "metadata": {
    "origin_pos": 24
   },
   "source": [
    "[**We can also apply different initializers for certain blocks.**]\n",
    "For example, below we initialize the first layer\n",
    "with the Xavier initializer\n",
    "and initialize the second layer\n",
    "to a constant value of 42.\n"
   ]
  },
  {
   "cell_type": "markdown",
   "id": "812a36b4",
   "metadata": {},
   "source": [
    "[**我们也可以对某些块应用不同的初始化方法。**]\n",
    "例如在下面的例子中，我们使用Xavier初始化器初始化第一层，\n",
    "并将第二层初始化为常数值42。"
   ]
  },
  {
   "cell_type": "code",
   "execution_count": 16,
   "id": "bb699161",
   "metadata": {
    "execution": {
     "iopub.execute_input": "2023-08-18T07:05:48.662232Z",
     "iopub.status.busy": "2023-08-18T07:05:48.661429Z",
     "iopub.status.idle": "2023-08-18T07:05:48.670961Z",
     "shell.execute_reply": "2023-08-18T07:05:48.669957Z"
    },
    "origin_pos": 26,
    "tab": [
     "pytorch"
    ]
   },
   "outputs": [
    {
     "name": "stdout",
     "output_type": "stream",
     "text": [
      "tensor([-0.6069, -0.4927,  0.2211,  0.5363])\n",
      "tensor([42., 42., 42., 42., 42., 42., 42., 42.])\n"
     ]
    }
   ],
   "source": [
    "def init_xavier(module):\n",
    "    if type(module) == nn.Linear:\n",
    "        nn.init.xavier_uniform_(module.weight)\n",
    "\n",
    "def init_42(module):\n",
    "    if type(module) == nn.Linear:\n",
    "        nn.init.constant_(module.weight, 42)\n",
    "\n",
    "net[0].apply(init_xavier)\n",
    "net[2].apply(init_42)\n",
    "print(net[0].weight.data[0])\n",
    "print(net[2].weight.data[0])"
   ]
  },
  {
   "cell_type": "markdown",
   "id": "0091838d",
   "metadata": {
    "origin_pos": 29
   },
   "source": [
    "### [**Custom Initialization**]\n",
    "\n",
    "Sometimes, the initialization methods we need\n",
    "are not provided by the deep learning framework.\n",
    "In the example below, we define an initializer\n",
    "for any weight parameter $w$ using the following strange distribution:\n",
    "\n",
    "$$\n",
    "\\begin{aligned}\n",
    "    w \\sim \\begin{cases}\n",
    "        U(5, 10) & \\textrm{ with probability } \\frac{1}{4} \\\\\n",
    "            0    & \\textrm{ with probability } \\frac{1}{2} \\\\\n",
    "        U(-10, -5) & \\textrm{ with probability } \\frac{1}{4}\n",
    "    \\end{cases}\n",
    "\\end{aligned}\n",
    "$$\n"
   ]
  },
  {
   "cell_type": "markdown",
   "id": "f9d4c4b6",
   "metadata": {},
   "source": [
    "### [**自定义初始化**]\n",
    "\n",
    "有时，深度学习框架没有提供我们需要的初始化方法。\n",
    "在下面的例子中，我们为任意权重参数$w$定义了一个基于以下特殊分布的初始化器：\n",
    "\n",
    "$$\n",
    "\\begin{aligned}\n",
    "    w \\sim \\begin{cases}\n",
    "        U(5, 10) & \\textrm{ 以 } \\frac{1}{4} \\textrm{ 的概率} \\\\\n",
    "            0    & \\textrm{ 以 } \\frac{1}{2} \\textrm{ 的概率} \\\\\n",
    "        U(-10, -5) & \\textrm{ 以 } \\frac{1}{4} \\textrm{ 的概率}\n",
    "    \\end{cases}\n",
    "\\end{aligned}\n",
    "$$"
   ]
  },
  {
   "cell_type": "markdown",
   "id": "2a2629f1",
   "metadata": {
    "origin_pos": 31,
    "tab": [
     "pytorch"
    ]
   },
   "source": [
    "Again, we implement a `my_init` function to apply to `net`.\n"
   ]
  },
  {
   "cell_type": "code",
   "execution_count": 20,
   "id": "0896a45c",
   "metadata": {
    "execution": {
     "iopub.execute_input": "2023-08-18T07:05:48.675035Z",
     "iopub.status.busy": "2023-08-18T07:05:48.674209Z",
     "iopub.status.idle": "2023-08-18T07:05:48.683140Z",
     "shell.execute_reply": "2023-08-18T07:05:48.682179Z"
    },
    "origin_pos": 35,
    "tab": [
     "pytorch"
    ]
   },
   "outputs": [
    {
     "name": "stdout",
     "output_type": "stream",
     "text": [
      "Init weight torch.Size([8, 4])\n",
      "Init weight torch.Size([1, 8])\n"
     ]
    },
    {
     "data": {
      "text/plain": [
       "tensor([[-7.9225, -0.0000,  7.9086,  0.0000],\n",
       "        [ 6.7229, -0.0000,  8.6296,  8.6200]], grad_fn=<SliceBackward0>)"
      ]
     },
     "execution_count": 20,
     "metadata": {},
     "output_type": "execute_result"
    }
   ],
   "source": [
    "def my_init(module):\n",
    "    if type(module) == nn.Linear:\n",
    "        print(\"Init\", *[(name, param.shape)\n",
    "                        for name, param in module.named_parameters()][0])\n",
    "        nn.init.uniform_(module.weight, -10, 10)\n",
    "        module.weight.data *= module.weight.data.abs() >= 5\n",
    "\n",
    "net.apply(my_init)\n",
    "net[0].weight[:2]"
   ]
  },
  {
   "cell_type": "markdown",
   "id": "398c7259",
   "metadata": {
    "origin_pos": 38,
    "tab": [
     "pytorch"
    ]
   },
   "source": [
    "Note that we always have the option\n",
    "of setting parameters directly.\n"
   ]
  },
  {
   "cell_type": "code",
   "execution_count": 21,
   "id": "a8ba0fc5",
   "metadata": {
    "execution": {
     "iopub.execute_input": "2023-08-18T07:05:48.687192Z",
     "iopub.status.busy": "2023-08-18T07:05:48.686477Z",
     "iopub.status.idle": "2023-08-18T07:05:48.694960Z",
     "shell.execute_reply": "2023-08-18T07:05:48.694024Z"
    },
    "origin_pos": 41,
    "tab": [
     "pytorch"
    ]
   },
   "outputs": [
    {
     "data": {
      "text/plain": [
       "tensor([42.0000,  1.0000,  8.9086,  1.0000])"
      ]
     },
     "execution_count": 21,
     "metadata": {},
     "output_type": "execute_result"
    }
   ],
   "source": [
    "net[0].weight.data[:] += 1\n",
    "net[0].weight.data[0, 0] = 42\n",
    "net[0].weight.data[0]"
   ]
  },
  {
   "cell_type": "markdown",
   "id": "62582a0b",
   "metadata": {
    "origin_pos": 43
   },
   "source": [
    "## Summary\n",
    "\n",
    "We can initialize parameters using built-in and custom initializers.\n",
    "\n",
    "## Exercises\n",
    "\n",
    "Look up the online documentation for more built-in initializers.\n"
   ]
  },
  {
   "cell_type": "markdown",
   "id": "8af42396",
   "metadata": {},
   "source": [
    "## 小结\n",
    "\n",
    "我们可以使用内置初始化方法和自定义初始化方法来初始化模型参数。\n",
    "\n",
    "## 练习\n",
    "\n",
    "查阅在线文档，了解更多可用的内置初始化方法。"
   ]
  },
  {
   "cell_type": "markdown",
   "id": "6cecd2a8",
   "metadata": {
    "origin_pos": 45,
    "tab": [
     "pytorch"
    ]
   },
   "source": [
    "[Discussions](https://discuss.d2l.ai/t/8090)\n"
   ]
  }
 ],
 "metadata": {
  "kernelspec": {
   "display_name": "gluon",
   "language": "python",
   "name": "python3"
  },
  "language_info": {
   "codemirror_mode": {
    "name": "ipython",
    "version": 3
   },
   "file_extension": ".py",
   "mimetype": "text/x-python",
   "name": "python",
   "nbconvert_exporter": "python",
   "pygments_lexer": "ipython3",
   "version": "3.10.16"
  },
  "required_libs": []
 },
 "nbformat": 4,
 "nbformat_minor": 5
}
